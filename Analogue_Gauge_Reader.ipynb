{
 "nbformat": 4,
 "nbformat_minor": 0,
 "metadata": {
  "colab": {
   "provenance": []
  },
  "kernelspec": {
   "name": "python3",
   "display_name": "Python 3"
  },
  "language_info": {
   "name": "python"
  }
 },
 "cells": [
  {
   "cell_type": "code",
   "execution_count": 2,
   "metadata": {
    "id": "ZLlq0RxPDm8O"
   },
   "outputs": [],
   "source": [
    "import matplotlib.pylab as plt\n",
    "import cv2\n",
    "import numpy as np\n",
    "import os\n",
    "import pandas as pd"
   ]
  },
  {
   "cell_type": "code",
   "source": [
    "def avg_circles(circles, b):\n",
    "    avg_x=0\n",
    "    avg_y=0\n",
    "    avg_r=0\n",
    "    for i in range(b):\n",
    "        #optional - average for multiple circles (can happen when a gauge is at a slight angle)\n",
    "        avg_x = avg_x + circles[0][i][0]\n",
    "        avg_y = avg_y + circles[0][i][1]\n",
    "        avg_r = avg_r + circles[0][i][2]\n",
    "    avg_x = int(avg_x/(b))\n",
    "    avg_y = int(avg_y/(b))\n",
    "    avg_r = int(avg_r/(b))\n",
    "    return avg_x, avg_y, avg_r\n",
    "\n",
    "def dist_2_pts(x1, y1, x2, y2):\n",
    "    #print np.sqrt((x2-x1)^2+(y2-y1)^2)\n",
    "    return np.sqrt((x2 - x1)**2 + (y2 - y1)**2)"
   ],
   "metadata": {
    "id": "uuc4YKAkD2gg"
   },
   "execution_count": 3,
   "outputs": []
  },
  {
   "cell_type": "code",
   "source": [
    "img= cv2.imread('gauge-4.png')\n",
    "\n",
    "cv2.imshow('image',img)\n",
    "cv2.waitKey(0)\n",
    "cv2.destroyAllWindows()\n",
    "height, width= img.shape[:2]\n",
    "gray= cv2.cvtColor(img, cv2.COLOR_BGR2GRAY) #Convert to gray"
   ],
   "metadata": {
    "id": "bqMqu2XLEXMv"
   },
   "execution_count": 4,
   "outputs": []
  },
  {
   "cell_type": "code",
   "execution_count": 5,
   "outputs": [
    {
     "data": {
      "text/plain": "(500, 500)"
     },
     "execution_count": 5,
     "metadata": {},
     "output_type": "execute_result"
    }
   ],
   "source": [
    "height, width"
   ],
   "metadata": {
    "collapsed": false
   }
  },
  {
   "cell_type": "code",
   "execution_count": 6,
   "outputs": [],
   "source": [
    "min_value = 0 #usually zero\n",
    "max_value = 80"
   ],
   "metadata": {
    "collapsed": false
   }
  },
  {
   "cell_type": "code",
   "execution_count": 7,
   "outputs": [
    {
     "data": {
      "text/plain": "array([[[250, 252, 246],\n        [236, 234, 244],\n        [264, 234, 247],\n        [266, 264, 244],\n        [230, 260, 227],\n        [234, 282, 213],\n        [216, 226, 204],\n        [274, 216, 206],\n        [254, 282, 215],\n        [292, 236, 205],\n        [250, 214, 211],\n        [286, 256, 212],\n        [208, 264, 205],\n        [282, 276, 205]]], dtype=uint16)"
     },
     "execution_count": 7,
     "metadata": {},
     "output_type": "execute_result"
    }
   ],
   "source": [
    "#Using Hough cirlces to find the cirlces in the image\n",
    "#detect circles\n",
    "#restricting the search from 35-48% of the possible radii gives fairly good results across different samples.  Remember that\n",
    "#these are pixel values which correspond to the possible radii search range.\n",
    "\n",
    "circle_img= cv2.HoughCircles(gray, cv2.HOUGH_GRADIENT,1, 20, np.array([]), 100, 50, int(height*0.35), int(height*0.50))\n",
    "a, b, c = circle_img.shape\n",
    "circle_img = np.uint16(np.around(circle_img))\n",
    "circle_img"
   ],
   "metadata": {
    "collapsed": false
   }
  },
  {
   "cell_type": "code",
   "execution_count": 9,
   "outputs": [
    {
     "name": "stdout",
     "output_type": "stream",
     "text": [
      "250 252 246\n",
      "236 234 244\n",
      "264 234 247\n",
      "266 264 244\n",
      "230 260 227\n",
      "234 282 213\n",
      "216 226 204\n",
      "274 216 206\n",
      "254 282 215\n",
      "292 236 205\n",
      "250 214 211\n",
      "286 256 212\n",
      "208 264 205\n",
      "282 276 205\n"
     ]
    }
   ],
   "source": [
    "output2 = img.copy()\n",
    "for (x,y,r) in circle_img[0,:]:\n",
    "    cv2.circle(output2, (x,y), r, (0,255,0), 3)\n",
    "    cv2.circle(output2, (x,y), 2, (0,255,0), 3)\n",
    "    print(x,y,r)\n",
    "\n",
    "\n",
    "cv2.imshow('output0', output2)\n",
    "cv2.waitKey(0)\n",
    "cv2.destroyAllWindows()"
   ],
   "metadata": {
    "collapsed": false
   }
  },
  {
   "cell_type": "code",
   "execution_count": 68,
   "outputs": [],
   "source": [
    "output3 = img.copy()\n",
    "#Averaging out nearby circles incase\n",
    "x,y,r = avg_circles(circle_img, b)\n",
    "cv2.circle(output3, (x,y), r, (0,255,0), 3)\n",
    "cv2.circle(output3, (x,y), 2, (0,255,0), 3)\n",
    "\n",
    "cv2.imshow('output', output3)\n",
    "cv2.waitKey(0)\n",
    "cv2.destroyAllWindows()"
   ],
   "metadata": {
    "collapsed": false
   }
  },
  {
   "cell_type": "code",
   "execution_count": 81,
   "outputs": [
    {
     "data": {
      "text/plain": "(253, 249, 220)"
     },
     "execution_count": 81,
     "metadata": {},
     "output_type": "execute_result"
    }
   ],
   "source": [
    "x,y,r"
   ],
   "metadata": {
    "collapsed": false
   }
  },
  {
   "cell_type": "code",
   "execution_count": 69,
   "outputs": [],
   "source": [
    "separation= 10 #in degrees\n",
    "interval = int(360/separation)\n",
    "p1 = np.zeros((interval,2))  #set empty arrays\n",
    "p2 = np.zeros((interval,2))\n",
    "p_text = np.zeros((interval,2))\n",
    "\n",
    "# 計算圓上點座標，已知半徑、圓心，x1 = x0 + r * cos(angle * PI / 180) y1 = y0 + r * sin(angle * PI /180)\n",
    "for i in range(0,interval):\n",
    "    for j in range(0,2):\n",
    "        if (j%2==0):\n",
    "            p1[i][j] = x + 0.9 * r * np.cos(separation * i * np.pi / 180) # angle = separation * i\n",
    "        else:\n",
    "            p1[i][j] = y + 0.9 * r * np.sin(separation * i * np.pi / 180)\n",
    "\n",
    "text_offset_x = 10\n",
    "text_offset_y = 5\n",
    "\n",
    "for i in range(0, interval):\n",
    "    for j in range(0, 2):\n",
    "        if (j % 2 == 0):\n",
    "            p2[i][j] = x + r * np.cos(separation * i * np.pi / 180)\n",
    "            p_text[i][j] = x - text_offset_x + 1.2 * r * np.cos((separation) * (i+9) * np.pi / 180) #point for text labels, i+9 rotates the labels by 90 degrees\n",
    "        else:\n",
    "            p2[i][j] = y + r * np.sin(separation * i * np.pi/ 180)\n",
    "            p_text[i][j] = y + text_offset_y + 1.2* r * np.sin((separation) * (i+9) * np.pi / 180)  # point for text labels, i+9 rotates the labels by 90 degrees\n",
    "\n",
    "#add the lines and labels to the image\n",
    "for i in range(0,interval):\n",
    "    cv2.line(output3, (int(p1[i][0]), int(p1[i][1])), (int(p2[i][0]), int(p2[i][1])),(0, 255, 0), 2)\n",
    "    cv2.putText(output3, '%s' %(int(i*separation)), (int(p_text[i][0]), int(p_text[i][1])), cv2.FONT_HERSHEY_SIMPLEX, 0.3,(0,0,0),1,cv2.LINE_AA)\n",
    "\n",
    "\n",
    "cv2.imshow('output',output3)\n",
    "cv2.waitKey(0)\n",
    "cv2.destroyAllWindows()\n",
    "#cv2.imwrite('gauge-%s-calibration.%s' % (gauge_number, file_type), img)"
   ],
   "metadata": {
    "collapsed": false
   }
  },
  {
   "cell_type": "code",
   "execution_count": 70,
   "outputs": [],
   "source": [
    "separation= 10 #in degrees\n",
    "interval = int(360/separation)\n",
    "p3 = np.zeros((interval,2))  #set empty arrays\n",
    "p4 = np.zeros((interval,2))\n",
    "\n",
    "for i in range(0,interval):\n",
    "    for j in range(0,2):\n",
    "        if (j%2==0):\n",
    "            p3[i][j] = x + 0.8 * r * np.cos(separation * i * np.pi / 180) #point for lines\n",
    "        else:\n",
    "            p3[i][j] = y + 0.8 * r * np.sin(separation * i * np.pi / 180)\n",
    "\n",
    "\n",
    "region_of_interest_vertices= p3"
   ],
   "metadata": {
    "collapsed": false
   }
  },
  {
   "cell_type": "code",
   "execution_count": 71,
   "outputs": [],
   "source": [
    "def region_of_interest(img, vertices):\n",
    "    mask= np.zeros_like(img)\n",
    "    match_mask_color= 255\n",
    "    cv2.fillPoly(mask, vertices, match_mask_color)\n",
    "    masked_image= cv2.bitwise_and(img, mask)\n",
    "    return masked_image"
   ],
   "metadata": {
    "collapsed": false
   }
  },
  {
   "cell_type": "code",
   "execution_count": 72,
   "outputs": [],
   "source": [
    "canny= cv2.Canny(gray, 200, 20)\n",
    "region_of_interest_vertices= p3\n",
    "cropped_image= region_of_interest(canny, np.array([region_of_interest_vertices], np.int32))\n",
    "cv2.imshow('cropped', cropped_image)\n",
    "cv2.waitKey(0)\n",
    "cv2.destroyAllWindows()"
   ],
   "metadata": {
    "collapsed": false
   }
  },
  {
   "cell_type": "code",
   "execution_count": 74,
   "outputs": [],
   "source": [
    "contours, heirarchy= cv2.findContours(cropped_image, cv2.RETR_EXTERNAL, cv2.CHAIN_APPROX_NONE)\n",
    "int_cnt= []\n",
    "for cnt in contours:\n",
    "    area = cv2.contourArea(cnt)\n",
    "    if area<15:\n",
    "        cv2.drawContours(output3, cnt, -1, (255,0,0), 3)\n",
    "        int_cnt.append(cnt)\n",
    "cv2.imshow('output', output3)\n",
    "cv2.waitKey(0)\n",
    "cv2.destroyAllWindows()"
   ],
   "metadata": {
    "collapsed": false
   }
  },
  {
   "cell_type": "code",
   "execution_count": 75,
   "outputs": [],
   "source": [
    "frth_quad_index=[]\n",
    "thrd_quad_index=[]\n",
    "reference_zero_angle= 35\n",
    "reference_end_angle= 330\n",
    "min_angle=90\n",
    "max_angle=270"
   ],
   "metadata": {
    "collapsed": false
   }
  },
  {
   "cell_type": "code",
   "execution_count": 78,
   "outputs": [],
   "source": [
    "a= int_cnt[0]\n",
    "a= a.reshape(len(a),2)\n",
    "a= pd.DataFrame(a)\n",
    "x1= a.iloc[:,0].mean()\n",
    "y1= a.iloc[:,1].mean()"
   ],
   "metadata": {
    "collapsed": false
   }
  },
  {
   "cell_type": "code",
   "execution_count": null,
   "outputs": [],
   "source": [
    "for i in range(len(int_cnt)):\n",
    "    a= int_cnt[i]\n",
    "    a= a.reshape(len(a),2)\n",
    "    a= pd.DataFrame(a)\n",
    "    x1= a.iloc[:,0].mean()\n",
    "    y1= a.iloc[:,1].mean()\n",
    "\n",
    "    xlen= x1-x\n",
    "    ylen= y-y1\n",
    "\n",
    "    #Taking arc-tan of ylen/xlen to find the angle\n",
    "    #res= np.arctan(np.divide(float(ylen), float(xlen)))\n",
    "    #res= np.rad2deg(res)\n",
    "\n",
    "    if xlen<0 and ylen<0:\n",
    "        res= np.arctan(np.divide(float(abs(ylen)), float(abs(xlen))))\n",
    "        res= np.rad2deg(res)\n",
    "        final_start_angle= 90-res\n",
    "        #print(i , final_angle)\n",
    "        frth_quad_index.append(i)\n",
    "        if final_start_angle> reference_zero_angle:\n",
    "            if final_start_angle<min_angle:\n",
    "                min_angle= final_start_angle\n",
    "\n",
    "    elif xlen>0 and ylen<0:\n",
    "        res= np.arctan(np.divide(float(abs(ylen)), float(abs(xlen))))\n",
    "        res= np.rad2deg(res)\n",
    "        final_end_angle= 270+res\n",
    "        thrd_quad_index.append(i)\n",
    "        #print(i , res)\n",
    "        if final_end_angle<reference_end_angle:\n",
    "            if final_end_angle>max_angle:\n",
    "                max_angle= final_end_angle\n",
    "\n",
    "print(f'Zero reading corresponds to {min_angle}')\n",
    "print(f'End reading corresponds to {max_angle}')"
   ],
   "metadata": {
    "collapsed": false
   }
  }
 ]
}
